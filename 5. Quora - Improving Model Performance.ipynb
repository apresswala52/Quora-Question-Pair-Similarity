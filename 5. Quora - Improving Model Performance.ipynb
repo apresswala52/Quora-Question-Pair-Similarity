{
 "cells": [
  {
   "cell_type": "markdown",
   "metadata": {},
   "source": [
    "<h1 style=\"text-align:center;font-size:30px;\" > Quora Question Pair Similarity </h1>"
   ]
  },
  {
   "cell_type": "markdown",
   "metadata": {},
   "source": [
    "# Part 4 : Improving Model Performance"
   ]
  },
  {
   "cell_type": "markdown",
   "metadata": {},
   "source": [
    "## 1. Model Evaluation using TFIDF Vectorization"
   ]
  },
  {
   "cell_type": "code",
   "execution_count": 82,
   "metadata": {},
   "outputs": [],
   "source": [
    "import pandas as pd\n",
    "import matplotlib.pyplot as plt\n",
    "import re\n",
    "import time\n",
    "from tqdm import tqdm\n",
    "import warnings\n",
    "import sqlite3\n",
    "from sqlalchemy import create_engine # database connection\n",
    "import csv\n",
    "import os\n",
    "import spacy\n",
    "warnings.filterwarnings(\"ignore\")\n",
    "import datetime as dt\n",
    "import numpy as np\n",
    "from nltk.corpus import stopwords\n",
    "import seaborn as sns\n",
    "from sklearn.metrics import confusion_matrix\n",
    "from sklearn.metrics.classification import accuracy_score, log_loss\n",
    "from sklearn.feature_extraction.text import TfidfVectorizer\n",
    "from collections import Counter\n",
    "from scipy.sparse import hstack\n",
    "from collections import Counter, defaultdict\n",
    "from sklearn.calibration import CalibratedClassifierCV\n",
    "from sklearn.model_selection import train_test_split\n",
    "from sklearn.model_selection import GridSearchCV\n",
    "import math\n",
    "from prettytable import PrettyTable\n",
    "\n",
    "from sklearn.model_selection import cross_val_score\n",
    "from sklearn.linear_model import SGDClassifier\n",
    "from sklearn import model_selection\n",
    "from sklearn.linear_model import LogisticRegression\n",
    "from sklearn.metrics import precision_recall_curve, auc, roc_curve\n",
    "from sklearn.svm import LinearSVC"
   ]
  },
  {
   "cell_type": "code",
   "execution_count": 149,
   "metadata": {},
   "outputs": [],
   "source": [
    "#nlp_features_train.csv (NLP Features)\n",
    "if os.path.isfile('nlp_features_train.csv'):\n",
    "    dfnlp = pd.read_csv(\"nlp_features_train.csv\",encoding='latin-1')\n",
    "else:\n",
    "    print(\"download nlp_features_train.csv from drive or run previous notebook\")\n",
    "\n",
    "#prepro_features_train.csv (Simple Preprocessing Feartures)\n",
    "if os.path.isfile('df_fe_without_preprocessing_train.csv'):\n",
    "    dfppro = pd.read_csv(\"df_fe_without_preprocessing_train.csv\",encoding='latin-1')\n",
    "else:\n",
    "    print(\"download df_fe_without_preprocessing_train.csv from drive or run previous notebook\")\n",
    "\n",
    "#train.csv preprocessed question1 & question2\n",
    "if os.path.isfile('train.csv'):\n",
    "    dfques = pd.read_csv(\"train.csv\",encoding='latin-1')\n",
    "    dfques['question1'] = dfques['question1'].apply(lambda x: str(x))\n",
    "    dfques['question2'] = dfques['question2'].apply(lambda x: str(x))\n",
    "else:\n",
    "    print(\"download train.csv from drive or run previous notebook\")"
   ]
  },
  {
   "cell_type": "code",
   "execution_count": 150,
   "metadata": {},
   "outputs": [],
   "source": [
    "df1 = dfnlp.drop(['qid1','qid2','question1','question2'],axis=1)\n",
    "df2 = dfppro.drop(['qid1','qid2','question1','question2','is_duplicate'],axis=1)\n",
    "df3 = dfques.drop(['qid1','qid2','is_duplicate'], axis=1)\n",
    "\n",
    "df_temp  = df1.merge(df2, on='id',how='left')\n",
    "\n",
    "# df_final contains Simple features, NLP features & Preprocessed Questions\n",
    "df_final = df_temp.merge(df3, on='id', how='left')"
   ]
  },
  {
   "cell_type": "code",
   "execution_count": 151,
   "metadata": {},
   "outputs": [
    {
     "data": {
      "text/plain": [
       "(404290, 30)"
      ]
     },
     "execution_count": 151,
     "metadata": {},
     "output_type": "execute_result"
    }
   ],
   "source": [
    "df_final.shape"
   ]
  },
  {
   "cell_type": "code",
   "execution_count": 152,
   "metadata": {},
   "outputs": [],
   "source": [
    "# dropping the is_duplicate feature from df_final\n",
    "y = df_final['is_duplicate']\n",
    "df = df_final.drop(['is_duplicate'],axis=1)"
   ]
  },
  {
   "cell_type": "code",
   "execution_count": 59,
   "metadata": {},
   "outputs": [
    {
     "data": {
      "text/plain": [
       "(404290, 29)"
      ]
     },
     "execution_count": 59,
     "metadata": {},
     "output_type": "execute_result"
    }
   ],
   "source": [
    "# shape of df after dropping is_duplicate\n",
    "df.shape"
   ]
  },
  {
   "cell_type": "code",
   "execution_count": 7,
   "metadata": {},
   "outputs": [],
   "source": [
    "# splitting the dataset into train (70%) & test (30%)\n",
    "X_train,X_test, y_train, y_test = train_test_split(df, y, test_size=0.3)"
   ]
  },
  {
   "cell_type": "code",
   "execution_count": 8,
   "metadata": {},
   "outputs": [
    {
     "name": "stdout",
     "output_type": "stream",
     "text": [
      "(283003, 50000)\n",
      "(283003, 50000)\n"
     ]
    }
   ],
   "source": [
    "# computing the TFIDF vectors for question1 & question2 for train data\n",
    "x_train_ques1 = list(X_train['question1'])\n",
    "x_train_ques2 = list(X_train['question2'])\n",
    "\n",
    "tfidf = TfidfVectorizer(lowercase=False, max_features=50000)\n",
    "vec1 = tfidf.fit_transform(x_train_ques1)\n",
    "vec2 = tfidf.fit_transform(x_train_ques2)\n",
    "print(vec1.shape)\n",
    "print(vec2.shape)"
   ]
  },
  {
   "cell_type": "code",
   "execution_count": 9,
   "metadata": {},
   "outputs": [
    {
     "name": "stdout",
     "output_type": "stream",
     "text": [
      "(121287, 50000)\n",
      "(121287, 50000)\n"
     ]
    }
   ],
   "source": [
    "# computing the TFIDF vectors for question1 & question2 for test data\n",
    "x_test_ques1 = list(X_test['question1'])\n",
    "x_test_ques2 = list(X_test['question2'])\n",
    "\n",
    "vec3 = tfidf.transform(x_test_ques1)\n",
    "vec4 = tfidf.transform(x_test_ques2)\n",
    "print(vec3.shape)\n",
    "print(vec4.shape)"
   ]
  },
  {
   "cell_type": "code",
   "execution_count": 10,
   "metadata": {},
   "outputs": [],
   "source": [
    "# dropping the question1 & question2 columns from train & test data\n",
    "X_train = X_train.drop(['question1', 'question2'],axis=1)\n",
    "X_test = X_test.drop(['question1', 'question2'], axis=1)"
   ]
  },
  {
   "cell_type": "code",
   "execution_count": 11,
   "metadata": {},
   "outputs": [
    {
     "name": "stdout",
     "output_type": "stream",
     "text": [
      "(283003, 27)\n",
      "(121287, 27)\n"
     ]
    }
   ],
   "source": [
    "# shape of the dataset after dropping question1 & question2\n",
    "print(X_train.shape)\n",
    "print(X_test.shape)"
   ]
  },
  {
   "cell_type": "code",
   "execution_count": 12,
   "metadata": {},
   "outputs": [],
   "source": [
    "# horizontally stacking the TFIDF vectors of question1 & question2 for train data\n",
    "sc_train = hstack((vec1, vec2))"
   ]
  },
  {
   "cell_type": "code",
   "execution_count": 13,
   "metadata": {},
   "outputs": [],
   "source": [
    "# horizontally stacking the TFIDF vectors of question1 & question2 for test data\n",
    "sc_test = hstack((vec3, vec4))"
   ]
  },
  {
   "cell_type": "code",
   "execution_count": 14,
   "metadata": {},
   "outputs": [],
   "source": [
    "sc_train_final = hstack((sc_train, X_train))\n",
    "sc_test_final = hstack((sc_test, X_test))"
   ]
  },
  {
   "cell_type": "code",
   "execution_count": 15,
   "metadata": {},
   "outputs": [],
   "source": [
    "sc_train_final = sc_train_final.tocsr()\n",
    "sc_test_final = sc_test_final.tocsr()"
   ]
  },
  {
   "cell_type": "code",
   "execution_count": 16,
   "metadata": {},
   "outputs": [
    {
     "name": "stdout",
     "output_type": "stream",
     "text": [
      "(283003, 100027)\n",
      "(121287, 100027)\n"
     ]
    }
   ],
   "source": [
    "print(sc_train_final.shape)\n",
    "print(sc_test_final.shape)"
   ]
  },
  {
   "cell_type": "code",
   "execution_count": 17,
   "metadata": {},
   "outputs": [],
   "source": [
    "# This function plots the confusion matrices given y_i, y_i_hat.\n",
    "def plot_confusion_matrix(test_y, predict_y):\n",
    "    C = confusion_matrix(test_y, predict_y)\n",
    "    # C = 9,9 matrix, each cell (i,j) represents number of points of class i are predicted class j\n",
    "    \n",
    "    A =(((C.T)/(C.sum(axis=1))).T)\n",
    "    #divid each element of the confusion matrix with the sum of elements in that column\n",
    "    \n",
    "    # C = [[1, 2],\n",
    "    #     [3, 4]]\n",
    "    # C.T = [[1, 3],\n",
    "    #        [2, 4]]\n",
    "    # C.sum(axis = 1)  axis=0 corresonds to columns and axis=1 corresponds to rows in two diamensional array\n",
    "    # C.sum(axix =1) = [[3, 7]]\n",
    "    # ((C.T)/(C.sum(axis=1))) = [[1/3, 3/7]\n",
    "    #                           [2/3, 4/7]]\n",
    "\n",
    "    # ((C.T)/(C.sum(axis=1))).T = [[1/3, 2/3]\n",
    "    #                           [3/7, 4/7]]\n",
    "    # sum of row elements = 1\n",
    "    \n",
    "    B =(C/C.sum(axis=0))\n",
    "    #divid each element of the confusion matrix with the sum of elements in that row\n",
    "    # C = [[1, 2],\n",
    "    #     [3, 4]]\n",
    "    # C.sum(axis = 0)  axis=0 corresonds to columns and axis=1 corresponds to rows in two diamensional array\n",
    "    # C.sum(axix =0) = [[4, 6]]\n",
    "    # (C/C.sum(axis=0)) = [[1/4, 2/6],\n",
    "    #                      [3/4, 4/6]] \n",
    "    plt.figure(figsize=(20,4))\n",
    "    \n",
    "    labels = [1,2]\n",
    "    # representing A in heatmap format\n",
    "    cmap=sns.light_palette(\"blue\")\n",
    "    plt.subplot(1, 3, 1)\n",
    "    sns.heatmap(C, annot=True, cmap=cmap, fmt=\".3f\", xticklabels=labels, yticklabels=labels)\n",
    "    plt.xlabel('Predicted Class')\n",
    "    plt.ylabel('Original Class')\n",
    "    plt.title(\"Confusion matrix\")\n",
    "    \n",
    "    plt.subplot(1, 3, 2)\n",
    "    sns.heatmap(B, annot=True, cmap=cmap, fmt=\".3f\", xticklabels=labels, yticklabels=labels)\n",
    "    plt.xlabel('Predicted Class')\n",
    "    plt.ylabel('Original Class')\n",
    "    plt.title(\"Precision matrix\")\n",
    "    \n",
    "    plt.subplot(1, 3, 3)\n",
    "    # representing B in heatmap format\n",
    "    sns.heatmap(A, annot=True, cmap=cmap, fmt=\".3f\", xticklabels=labels, yticklabels=labels)\n",
    "    plt.xlabel('Predicted Class')\n",
    "    plt.ylabel('Original Class')\n",
    "    plt.title(\"Recall matrix\")\n",
    "    plt.show()"
   ]
  },
  {
   "cell_type": "markdown",
   "metadata": {},
   "source": [
    "## Logistic Regression"
   ]
  },
  {
   "cell_type": "code",
   "execution_count": 21,
   "metadata": {},
   "outputs": [
    {
     "name": "stdout",
     "output_type": "stream",
     "text": [
      "For values of C =  1e-05 The log loss is: 0.4760294278692292\n",
      "For values of C =  0.0001 The log loss is: 0.45239478560601637\n",
      "For values of C =  0.001 The log loss is: 0.4351643544976169\n",
      "For values of C =  0.01 The log loss is: 0.41596801181450643\n",
      "For values of C =  0.1 The log loss is: 0.4025565259422532\n",
      "For values of C =  1 The log loss is: 0.4039944960160513\n",
      "For values of C =  10 The log loss is: 0.3991583848913962\n"
     ]
    },
    {
     "data": {
      "image/png": "[encoded data removed]",
      "text/plain": [
       "<Figure size 432x288 with 1 Axes>"
      ]
     },
     "metadata": {
      "needs_background": "light"
     },
     "output_type": "display_data"
    },
    {
     "name": "stdout",
     "output_type": "stream",
     "text": [
      "For values of best C =  10 The train log loss is: 0.3836730420986669\n",
      "For values of best C =  10 The test log loss is: 0.3991583848913962\n",
      "Total number of data points : 121287\n"
     ]
    },
    {
     "data": {
      "image/png": "[encoded data removed]",
      "text/plain": [
       "<Figure size 1440x288 with 6 Axes>"
      ]
     },
     "metadata": {
      "needs_background": "light"
     },
     "output_type": "display_data"
    }
   ],
   "source": [
    "from sklearn.calibration import CalibratedClassifierCV\n",
    "from sklearn.metrics.classification import accuracy_score, log_loss\n",
    "from sklearn.metrics import confusion_matrix\n",
    "import seaborn as sns\n",
    "\n",
    "C = [10 ** x for x in range(-5, 2)] # hyperparam for LR classifier.\n",
    "\n",
    "\n",
    "log_error_array=[]\n",
    "for i in C:\n",
    "    clf = LogisticRegression(C=i, penalty='l2', class_weight='balanced', random_state=42)\n",
    "    clf.fit(sc_train_final, y_train)\n",
    "    sig_clf = CalibratedClassifierCV(clf, method=\"sigmoid\")\n",
    "    sig_clf.fit(sc_train_final, y_train)\n",
    "    predict_y = sig_clf.predict_proba(sc_test_final)\n",
    "    log_error_array.append(log_loss(y_test, predict_y, labels=clf.classes_, eps=1e-15))\n",
    "    print('For values of C = ', i, \"The log loss is:\",log_loss(y_test, predict_y, labels=clf.classes_, eps=1e-15))\n",
    "\n",
    "fig, ax = plt.subplots()\n",
    "ax.plot(C, log_error_array,c='g')\n",
    "for i, txt in enumerate(np.round(log_error_array,3)):\n",
    "    ax.annotate((C[i],np.round(txt,3)), (C[i],log_error_array[i]))\n",
    "plt.grid()\n",
    "plt.title(\"Cross Validation Error for each alpha\")\n",
    "plt.xlabel(\"C i's\")\n",
    "plt.ylabel(\"Error measure\")\n",
    "plt.show()\n",
    "\n",
    "\n",
    "best_C = np.argmin(log_error_array)\n",
    "clf = LogisticRegression(C=C[best_C], penalty='l2', class_weight='balanced', random_state=42)\n",
    "clf.fit(sc_train_final, y_train)\n",
    "sig_clf = CalibratedClassifierCV(clf, method=\"sigmoid\")\n",
    "sig_clf.fit(sc_train_final, y_train)\n",
    "\n",
    "predict_y = sig_clf.predict_proba(sc_train_final)\n",
    "print('For values of best C = ', C[best_C], \"The train log loss is:\",log_loss(y_train, predict_y, labels=clf.classes_, eps=1e-15))\n",
    "predict_y = sig_clf.predict_proba(sc_test_final)\n",
    "print('For values of best C = ', C[best_C], \"The test log loss is:\",log_loss(y_test, predict_y, labels=clf.classes_, eps=1e-15))\n",
    "predicted_y =np.argmax(predict_y,axis=1)a\n",
    "print(\"Total number of data points :\", len(predicted_y))\n",
    "plot_confusion_matrix(y_test, predicted_y)"
   ]
  },
  {
   "cell_type": "markdown",
   "metadata": {},
   "source": [
    "## Linear SVM"
   ]
  },
  {
   "cell_type": "code",
   "execution_count": 28,
   "metadata": {},
   "outputs": [
    {
     "name": "stdout",
     "output_type": "stream",
     "text": [
      "For values of C =  1e-05 The log loss is: 0.5387252000469968\n",
      "For values of C =  0.0001 The log loss is: 0.503169700555303\n",
      "For values of C =  0.001 The log loss is: 0.5541077612998483\n",
      "For values of C =  0.01 The log loss is: 0.5014601374437659\n",
      "For values of C =  0.1 The log loss is: 0.4960820323948534\n",
      "For values of C =  1 The log loss is: 0.4960820323948534\n",
      "For values of C =  10 The log loss is: 0.4960820323948534\n"
     ]
    },
    {
     "data": {
      "image/png": "[encoded data removed]",
      "text/plain": [
       "<Figure size 432x288 with 1 Axes>"
      ]
     },
     "metadata": {
      "needs_background": "light"
     },
     "output_type": "display_data"
    },
    {
     "name": "stdout",
     "output_type": "stream",
     "text": [
      "For values of best C =  0.1 The train log loss is: 0.49572974514432044\n",
      "For values of best C =  0.1 The test log loss is: 0.4960820323948534\n",
      "Total number of data points : 121287\n"
     ]
    },
    {
     "data": {
      "image/png": "[encoded data removed]",
      "text/plain": [
       "<Figure size 1440x288 with 6 Axes>"
      ]
     },
     "metadata": {
      "needs_background": "light"
     },
     "output_type": "display_data"
    }
   ],
   "source": [
    "from sklearn.calibration import CalibratedClassifierCV\n",
    "from sklearn.metrics.classification import accuracy_score, log_loss\n",
    "from sklearn.metrics import confusion_matrix\n",
    "import seaborn as sns\n",
    "\n",
    "C = [10 ** x for x in range(-5, 2)] # hyperparam\n",
    "\n",
    "\n",
    "log_error_array=[]\n",
    "for i in C:\n",
    "    clf = LinearSVC(C=i, penalty='l2', loss='hinge', class_weight='balanced', random_state=42)\n",
    "    clf.fit(sc_train_final, y_train)\n",
    "    sig_clf = CalibratedClassifierCV(clf, method=\"sigmoid\")\n",
    "    sig_clf.fit(sc_train_final, y_train)\n",
    "    predict_y = sig_clf.predict_proba(sc_test_final)\n",
    "    log_error_array.append(log_loss(y_test, predict_y, labels=clf.classes_, eps=1e-15))\n",
    "    print('For values of C = ', i, \"The log loss is:\",log_loss(y_test, predict_y, labels=clf.classes_, eps=1e-15))\n",
    "\n",
    "fig, ax = plt.subplots()\n",
    "ax.plot(C, log_error_array,c='g')\n",
    "for i, txt in enumerate(np.round(log_error_array,3)):\n",
    "    ax.annotate((C[i],np.round(txt,3)), (C[i],log_error_array[i]))\n",
    "plt.grid()\n",
    "plt.title(\"Cross Validation Error for each alpha\")\n",
    "plt.xlabel(\"C i's\")\n",
    "plt.ylabel(\"Error measure\")\n",
    "plt.show()\n",
    "\n",
    "\n",
    "best_C = np.argmin(log_error_array)\n",
    "clf = LinearSVC(C=C[best_C], penalty='l2', loss='hinge', class_weight='balanced', random_state=42)\n",
    "clf.fit(sc_train_final, y_train)\n",
    "sig_clf = CalibratedClassifierCV(clf, method=\"sigmoid\")\n",
    "sig_clf.fit(sc_train_final, y_train)\n",
    "\n",
    "predict_y = sig_clf.predict_proba(sc_train_final)\n",
    "print('For values of best C = ', C[best_C], \"The train log loss is:\",log_loss(y_train, predict_y, labels=clf.classes_, eps=1e-15))\n",
    "predict_y = sig_clf.predict_proba(sc_test_final)\n",
    "print('For values of best C = ', C[best_C], \"The test log loss is:\",log_loss(y_test, predict_y, labels=clf.classes_, eps=1e-15))\n",
    "predicted_y =np.argmax(predict_y,axis=1)\n",
    "print(\"Total number of data points :\", len(predicted_y))\n",
    "plot_confusion_matrix(y_test, predicted_y)"
   ]
  },
  {
   "cell_type": "markdown",
   "metadata": {},
   "source": [
    "## XGBoost"
   ]
  },
  {
   "cell_type": "code",
   "execution_count": 26,
   "metadata": {},
   "outputs": [
    {
     "name": "stdout",
     "output_type": "stream",
     "text": [
      "[0]\ttrain-logloss:0.684783\tvalid-logloss:0.684859\n",
      "Multiple eval metrics have been passed: 'valid-logloss' will be used for early stopping.\n",
      "\n",
      "Will train until valid-logloss hasn't improved in 20 rounds.\n",
      "[10]\ttrain-logloss:0.61517\tvalid-logloss:0.61515\n",
      "[20]\ttrain-logloss:0.564414\tvalid-logloss:0.564485\n",
      "[30]\ttrain-logloss:0.525937\tvalid-logloss:0.526007\n",
      "[40]\ttrain-logloss:0.496571\tvalid-logloss:0.496759\n",
      "[50]\ttrain-logloss:0.473747\tvalid-logloss:0.473974\n",
      "[60]\ttrain-logloss:0.455523\tvalid-logloss:0.455799\n",
      "[70]\ttrain-logloss:0.440815\tvalid-logloss:0.441081\n",
      "[80]\ttrain-logloss:0.428923\tvalid-logloss:0.429267\n",
      "[90]\ttrain-logloss:0.419301\tvalid-logloss:0.419673\n",
      "[100]\ttrain-logloss:0.411513\tvalid-logloss:0.411901\n",
      "[110]\ttrain-logloss:0.404842\tvalid-logloss:0.405224\n",
      "[120]\ttrain-logloss:0.399337\tvalid-logloss:0.399734\n",
      "[130]\ttrain-logloss:0.394492\tvalid-logloss:0.395105\n",
      "[140]\ttrain-logloss:0.390534\tvalid-logloss:0.391296\n",
      "[150]\ttrain-logloss:0.387199\tvalid-logloss:0.388007\n",
      "[160]\ttrain-logloss:0.384239\tvalid-logloss:0.385169\n",
      "[170]\ttrain-logloss:0.381593\tvalid-logloss:0.382652\n",
      "[180]\ttrain-logloss:0.379444\tvalid-logloss:0.380848\n",
      "[190]\ttrain-logloss:0.377448\tvalid-logloss:0.379133\n",
      "[200]\ttrain-logloss:0.375776\tvalid-logloss:0.377669\n",
      "[210]\ttrain-logloss:0.374207\tvalid-logloss:0.376472\n",
      "[220]\ttrain-logloss:0.372452\tvalid-logloss:0.375004\n",
      "[230]\ttrain-logloss:0.370865\tvalid-logloss:0.373626\n",
      "[240]\ttrain-logloss:0.369246\tvalid-logloss:0.372434\n",
      "[250]\ttrain-logloss:0.367671\tvalid-logloss:0.371183\n",
      "[260]\ttrain-logloss:0.366227\tvalid-logloss:0.37016\n",
      "[270]\ttrain-logloss:0.3652\tvalid-logloss:0.369436\n",
      "[280]\ttrain-logloss:0.36408\tvalid-logloss:0.368742\n",
      "[290]\ttrain-logloss:0.363188\tvalid-logloss:0.36809\n",
      "[300]\ttrain-logloss:0.362142\tvalid-logloss:0.367351\n",
      "[310]\ttrain-logloss:0.361294\tvalid-logloss:0.366814\n",
      "[320]\ttrain-logloss:0.360258\tvalid-logloss:0.36611\n",
      "[330]\ttrain-logloss:0.359477\tvalid-logloss:0.365615\n",
      "[340]\ttrain-logloss:0.358604\tvalid-logloss:0.364858\n",
      "[350]\ttrain-logloss:0.357871\tvalid-logloss:0.364351\n",
      "[360]\ttrain-logloss:0.357118\tvalid-logloss:0.363696\n",
      "[370]\ttrain-logloss:0.35641\tvalid-logloss:0.363127\n",
      "[380]\ttrain-logloss:0.355791\tvalid-logloss:0.362646\n",
      "[390]\ttrain-logloss:0.355134\tvalid-logloss:0.362152\n",
      "[399]\ttrain-logloss:0.354573\tvalid-logloss:0.361771\n",
      "The test log loss is: 0.3617706680724885\n"
     ]
    }
   ],
   "source": [
    "import xgboost as xgb\n",
    "params = {}\n",
    "params['objective'] = 'binary:logistic'\n",
    "params['eval_metric'] = 'logloss'\n",
    "params['eta'] = 0.02\n",
    "params['max_depth'] = 4\n",
    "\n",
    "d_train = xgb.DMatrix(sc_train_final, label=y_train)\n",
    "d_test = xgb.DMatrix(sc_test_final, label=y_test)\n",
    "\n",
    "watchlist = [(d_train, 'train'), (d_test, 'valid')]\n",
    "\n",
    "bst = xgb.train(params, d_train, 400, watchlist, early_stopping_rounds=20, verbose_eval=10)\n",
    "\n",
    "xgdmat = xgb.DMatrix(sc_train_final,y_train)\n",
    "predict_y = bst.predict(d_test)\n",
    "print(\"The test log loss is:\",log_loss(y_test, predict_y, labels=clf.classes_, eps=1e-15))"
   ]
  },
  {
   "cell_type": "markdown",
   "metadata": {},
   "source": [
    "### Conclusion"
   ]
  },
  {
   "cell_type": "markdown",
   "metadata": {},
   "source": [
    "Steps followed:-\n",
    "1. We applied Tf-idf for question1 and question2.\n",
    "2. Horizontally stacked the vectors with the dataframe containing all the Simple & NLP features.\n",
    "3. Converted the final sparse matrix into Compressed-Sparse-Row(csr) format.\n",
    "4. Split the data into Train and Test using train_test_split.\n",
    "5. Then, applied Logistic Regression, Linear-SVM & XGBoost on the sparse matrix and found the Log-Loss for the models and \n",
    "   found that XGBoost performs the best followed by Linear-SVM & Logistic Regression."
   ]
  },
  {
   "cell_type": "code",
   "execution_count": 29,
   "metadata": {},
   "outputs": [
    {
     "name": "stdout",
     "output_type": "stream",
     "text": [
      "+---------------------+----------------+---------------+\n",
      "|        Model        | Train log-loss | Test log_loss |\n",
      "+---------------------+----------------+---------------+\n",
      "| Logistic Regression |    0.38367     |    0.39915    |\n",
      "|      Linear SVM     |    0.49572     |    0.49608    |\n",
      "|       XGBoost       |    0.36177     |    0.36177    |\n",
      "+---------------------+----------------+---------------+\n"
     ]
    }
   ],
   "source": [
    "x=PrettyTable()\n",
    "x.field_names = ['Model', 'Train log-loss', 'Test log_loss']\n",
    "x.add_row(['Logistic Regression', '0.38367', '0.39915'])\n",
    "x.add_row(['Linear SVM', '0.49572', '0.49608'])\n",
    "x.add_row(['XGBoost', '0.36177', '0.36177'])\n",
    "print(x)"
   ]
  },
  {
   "cell_type": "markdown",
   "metadata": {},
   "source": [
    "## 2. Hyperparameter tuning for XGBoost"
   ]
  },
  {
   "cell_type": "code",
   "execution_count": 153,
   "metadata": {},
   "outputs": [
    {
     "data": {
      "text/plain": [
       "(404290, 30)"
      ]
     },
     "execution_count": 153,
     "metadata": {},
     "output_type": "execute_result"
    }
   ],
   "source": [
    "df_final.shape"
   ]
  },
  {
   "cell_type": "code",
   "execution_count": 154,
   "metadata": {},
   "outputs": [],
   "source": [
    "# Sampling 100000 points from the dataset\n",
    "df_final = df_final.sample(100000)"
   ]
  },
  {
   "cell_type": "code",
   "execution_count": 155,
   "metadata": {},
   "outputs": [],
   "source": [
    "# dropping the is_duplicate feature from df_final\n",
    "y = df_final['is_duplicate']\n",
    "df = df_final.drop(['is_duplicate'],axis=1)"
   ]
  },
  {
   "cell_type": "code",
   "execution_count": 156,
   "metadata": {},
   "outputs": [
    {
     "data": {
      "text/html": [
       "<div>\n",
       "<style scoped>\n",
       "    .dataframe tbody tr th:only-of-type {\n",
       "        vertical-align: middle;\n",
       "    }\n",
       "\n",
       "    .dataframe tbody tr th {\n",
       "        vertical-align: top;\n",
       "    }\n",
       "\n",
       "    .dataframe thead th {\n",
       "        text-align: right;\n",
       "    }\n",
       "</style>\n",
       "<table border=\"1\" class=\"dataframe\">\n",
       "  <thead>\n",
       "    <tr style=\"text-align: right;\">\n",
       "      <th></th>\n",
       "      <th>id</th>\n",
       "      <th>cwc_min</th>\n",
       "      <th>cwc_max</th>\n",
       "      <th>csc_min</th>\n",
       "      <th>csc_max</th>\n",
       "      <th>ctc_min</th>\n",
       "      <th>ctc_max</th>\n",
       "      <th>last_word_eq</th>\n",
       "      <th>first_word_eq</th>\n",
       "      <th>abs_len_diff</th>\n",
       "      <th>...</th>\n",
       "      <th>q2len</th>\n",
       "      <th>q1_n_words</th>\n",
       "      <th>q2_n_words</th>\n",
       "      <th>word_Common</th>\n",
       "      <th>word_Total</th>\n",
       "      <th>word_share</th>\n",
       "      <th>freq_q1+q2</th>\n",
       "      <th>freq_q1-q2</th>\n",
       "      <th>question1</th>\n",
       "      <th>question2</th>\n",
       "    </tr>\n",
       "  </thead>\n",
       "  <tbody>\n",
       "    <tr>\n",
       "      <th>330605</th>\n",
       "      <td>330605</td>\n",
       "      <td>0.749981</td>\n",
       "      <td>0.428565</td>\n",
       "      <td>0.333322</td>\n",
       "      <td>0.333322</td>\n",
       "      <td>0.571420</td>\n",
       "      <td>0.399996</td>\n",
       "      <td>1.0</td>\n",
       "      <td>0.0</td>\n",
       "      <td>3.0</td>\n",
       "      <td>...</td>\n",
       "      <td>67</td>\n",
       "      <td>7</td>\n",
       "      <td>10</td>\n",
       "      <td>4.0</td>\n",
       "      <td>17.0</td>\n",
       "      <td>0.235294</td>\n",
       "      <td>4</td>\n",
       "      <td>2</td>\n",
       "      <td>Why are Samsung phones setting on fire?</td>\n",
       "      <td>What are the technical reasons behind Samsung ...</td>\n",
       "    </tr>\n",
       "    <tr>\n",
       "      <th>403466</th>\n",
       "      <td>403466</td>\n",
       "      <td>0.666644</td>\n",
       "      <td>0.666644</td>\n",
       "      <td>0.999967</td>\n",
       "      <td>0.599988</td>\n",
       "      <td>0.833319</td>\n",
       "      <td>0.555549</td>\n",
       "      <td>1.0</td>\n",
       "      <td>0.0</td>\n",
       "      <td>3.0</td>\n",
       "      <td>...</td>\n",
       "      <td>32</td>\n",
       "      <td>9</td>\n",
       "      <td>6</td>\n",
       "      <td>4.0</td>\n",
       "      <td>14.0</td>\n",
       "      <td>0.285714</td>\n",
       "      <td>2</td>\n",
       "      <td>0</td>\n",
       "      <td>I had this strange dream? What does this mean?</td>\n",
       "      <td>What does this weird dream mean?</td>\n",
       "    </tr>\n",
       "    <tr>\n",
       "      <th>116910</th>\n",
       "      <td>116910</td>\n",
       "      <td>0.749981</td>\n",
       "      <td>0.749981</td>\n",
       "      <td>0.999980</td>\n",
       "      <td>0.999980</td>\n",
       "      <td>0.799992</td>\n",
       "      <td>0.799992</td>\n",
       "      <td>1.0</td>\n",
       "      <td>1.0</td>\n",
       "      <td>0.0</td>\n",
       "      <td>...</td>\n",
       "      <td>50</td>\n",
       "      <td>8</td>\n",
       "      <td>8</td>\n",
       "      <td>7.0</td>\n",
       "      <td>16.0</td>\n",
       "      <td>0.437500</td>\n",
       "      <td>2</td>\n",
       "      <td>0</td>\n",
       "      <td>How do you draw a realistic flower (step-by-st...</td>\n",
       "      <td>How do you draw a realistic dragon (step-by-st...</td>\n",
       "    </tr>\n",
       "    <tr>\n",
       "      <th>368829</th>\n",
       "      <td>368829</td>\n",
       "      <td>0.999950</td>\n",
       "      <td>0.499988</td>\n",
       "      <td>0.666656</td>\n",
       "      <td>0.444440</td>\n",
       "      <td>0.666659</td>\n",
       "      <td>0.428568</td>\n",
       "      <td>0.0</td>\n",
       "      <td>1.0</td>\n",
       "      <td>5.0</td>\n",
       "      <td>...</td>\n",
       "      <td>64</td>\n",
       "      <td>8</td>\n",
       "      <td>13</td>\n",
       "      <td>6.0</td>\n",
       "      <td>21.0</td>\n",
       "      <td>0.285714</td>\n",
       "      <td>27</td>\n",
       "      <td>3</td>\n",
       "      <td>How do you know you're in love again?</td>\n",
       "      <td>How can you know if you're in love or just att...</td>\n",
       "    </tr>\n",
       "    <tr>\n",
       "      <th>99815</th>\n",
       "      <td>99815</td>\n",
       "      <td>0.999950</td>\n",
       "      <td>0.499988</td>\n",
       "      <td>0.666644</td>\n",
       "      <td>0.399992</td>\n",
       "      <td>0.499994</td>\n",
       "      <td>0.499994</td>\n",
       "      <td>1.0</td>\n",
       "      <td>1.0</td>\n",
       "      <td>0.0</td>\n",
       "      <td>...</td>\n",
       "      <td>35</td>\n",
       "      <td>8</td>\n",
       "      <td>8</td>\n",
       "      <td>4.0</td>\n",
       "      <td>14.0</td>\n",
       "      <td>0.285714</td>\n",
       "      <td>2</td>\n",
       "      <td>0</td>\n",
       "      <td>How would somebody teach themselves how to fight?</td>\n",
       "      <td>How do I teach myself how to fight?</td>\n",
       "    </tr>\n",
       "  </tbody>\n",
       "</table>\n",
       "<p>5 rows × 29 columns</p>\n",
       "</div>"
      ],
      "text/plain": [
       "            id   cwc_min   cwc_max   csc_min   csc_max   ctc_min   ctc_max  \\\n",
       "330605  330605  0.749981  0.428565  0.333322  0.333322  0.571420  0.399996   \n",
       "403466  403466  0.666644  0.666644  0.999967  0.599988  0.833319  0.555549   \n",
       "116910  116910  0.749981  0.749981  0.999980  0.999980  0.799992  0.799992   \n",
       "368829  368829  0.999950  0.499988  0.666656  0.444440  0.666659  0.428568   \n",
       "99815    99815  0.999950  0.499988  0.666644  0.399992  0.499994  0.499994   \n",
       "\n",
       "        last_word_eq  first_word_eq  abs_len_diff  \\\n",
       "330605           1.0            0.0           3.0   \n",
       "403466           1.0            0.0           3.0   \n",
       "116910           1.0            1.0           0.0   \n",
       "368829           0.0            1.0           5.0   \n",
       "99815            1.0            1.0           0.0   \n",
       "\n",
       "                              ...                          q2len  q1_n_words  \\\n",
       "330605                        ...                             67           7   \n",
       "403466                        ...                             32           9   \n",
       "116910                        ...                             50           8   \n",
       "368829                        ...                             64           8   \n",
       "99815                         ...                             35           8   \n",
       "\n",
       "        q2_n_words  word_Common  word_Total  word_share  freq_q1+q2  \\\n",
       "330605          10          4.0        17.0    0.235294           4   \n",
       "403466           6          4.0        14.0    0.285714           2   \n",
       "116910           8          7.0        16.0    0.437500           2   \n",
       "368829          13          6.0        21.0    0.285714          27   \n",
       "99815            8          4.0        14.0    0.285714           2   \n",
       "\n",
       "        freq_q1-q2                                          question1  \\\n",
       "330605           2            Why are Samsung phones setting on fire?   \n",
       "403466           0     I had this strange dream? What does this mean?   \n",
       "116910           0  How do you draw a realistic flower (step-by-st...   \n",
       "368829           3              How do you know you're in love again?   \n",
       "99815            0  How would somebody teach themselves how to fight?   \n",
       "\n",
       "                                                question2  \n",
       "330605  What are the technical reasons behind Samsung ...  \n",
       "403466                   What does this weird dream mean?  \n",
       "116910  How do you draw a realistic dragon (step-by-st...  \n",
       "368829  How can you know if you're in love or just att...  \n",
       "99815                 How do I teach myself how to fight?  \n",
       "\n",
       "[5 rows x 29 columns]"
      ]
     },
     "execution_count": 156,
     "metadata": {},
     "output_type": "execute_result"
    }
   ],
   "source": [
    "df.head()"
   ]
  },
  {
   "cell_type": "code",
   "execution_count": 200,
   "metadata": {},
   "outputs": [],
   "source": [
    "X_train, X_test, y_train, y_test = train_test_split(df, y, test_size=0.3)"
   ]
  },
  {
   "cell_type": "code",
   "execution_count": 201,
   "metadata": {},
   "outputs": [
    {
     "name": "stdout",
     "output_type": "stream",
     "text": [
      "Number of data points in train data : (70000, 29)\n",
      "Number of data points in y train : (70000,)\n",
      "\n",
      "Number of data points in test data : (30000, 29)\n",
      "Number of data points in y test : (30000,)\n"
     ]
    }
   ],
   "source": [
    "print(\"Number of data points in train data :\",X_train.shape)\n",
    "print(\"Number of data points in y train :\",y_train.shape)\n",
    "print()\n",
    "print(\"Number of data points in test data :\",X_test.shape)\n",
    "print(\"Number of data points in y test :\",y_test.shape)"
   ]
  },
  {
   "cell_type": "code",
   "execution_count": 204,
   "metadata": {},
   "outputs": [
    {
     "name": "stdout",
     "output_type": "stream",
     "text": [
      "(70000, 34430)\n",
      "(70000, 34430)\n"
     ]
    }
   ],
   "source": [
    "# computing the TFIDF vectors for question1 & question2 for train data\n",
    "x_train_ques1 = list(X_train['question1'])\n",
    "x_train_ques2 = list(X_train['question2'])\n",
    "\n",
    "tfidf = TfidfVectorizer(lowercase=False, max_features=34430)\n",
    "vec1 = tfidf.fit_transform(x_train_ques1)\n",
    "vec2 = tfidf.fit_transform(x_train_ques2)\n",
    "print(vec1.shape)\n",
    "print(vec2.shape)"
   ]
  },
  {
   "cell_type": "code",
   "execution_count": 205,
   "metadata": {},
   "outputs": [
    {
     "name": "stdout",
     "output_type": "stream",
     "text": [
      "(30000, 34430)\n",
      "(30000, 34430)\n"
     ]
    }
   ],
   "source": [
    "# computing the TFIDF vectors for question1 & question2 for test data\n",
    "x_test_ques1 = list(X_test['question1'])\n",
    "x_test_ques2 = list(X_test['question2'])\n",
    "\n",
    "vec3 = tfidf.transform(x_test_ques1)\n",
    "vec4 = tfidf.transform(x_test_ques2)\n",
    "print(vec3.shape)\n",
    "print(vec4.shape)"
   ]
  },
  {
   "cell_type": "code",
   "execution_count": 206,
   "metadata": {},
   "outputs": [],
   "source": [
    "word2tfidf = dict(zip(tfidf.get_feature_names(), tfidf.idf_))"
   ]
  },
  {
   "cell_type": "code",
   "execution_count": 207,
   "metadata": {},
   "outputs": [
    {
     "name": "stderr",
     "output_type": "stream",
     "text": [
      "100%|████████████████████████████████████████████████████████████████████████████| 70000/70000 [12:57<00:00, 90.04it/s]\n"
     ]
    }
   ],
   "source": [
    "nlp = spacy.load('en_core_web_sm')\n",
    "\n",
    "vecs1 = []\n",
    "\n",
    "for qu1 in tqdm(list(X_train['question1'])):\n",
    "    doc1 = nlp(qu1) \n",
    "    mean_vec1 = np.zeros([len(doc1), len(doc1[0].vector)])\n",
    "    for word1 in doc1:\n",
    "        # word2vec\n",
    "        vec1 = word1.vector\n",
    "        # fetch df score\n",
    "        try:\n",
    "            idf = word2tfidf[str(word1)]\n",
    "        except:\n",
    "            idf = 0\n",
    "        # compute final vec\n",
    "        mean_vec1 += vec1 * idf\n",
    "    mean_vec1 = mean_vec1.mean(axis=0)\n",
    "    vecs1.append(mean_vec1)\n",
    "X_train['q1'] = list(vecs1)"
   ]
  },
  {
   "cell_type": "code",
   "execution_count": 208,
   "metadata": {},
   "outputs": [
    {
     "name": "stderr",
     "output_type": "stream",
     "text": [
      "100%|████████████████████████████████████████████████████████████████████████████| 30000/30000 [05:47<00:00, 86.30it/s]\n"
     ]
    }
   ],
   "source": [
    "vecs2 = []\n",
    "\n",
    "for qu1 in tqdm(list(X_test['question1'])):\n",
    "    doc1 = nlp(qu1) \n",
    "    mean_vec1 = np.zeros([len(doc1), len(doc1[0].vector)])\n",
    "    for word1 in doc1:\n",
    "        # word2vec\n",
    "        vec1 = word1.vector\n",
    "        # fetch df score\n",
    "        try:\n",
    "            idf = word2tfidf[str(word1)]\n",
    "        except:\n",
    "            idf = 0\n",
    "        # compute final vec\n",
    "        mean_vec1 += vec1 * idf\n",
    "    mean_vec1 = mean_vec1.mean(axis=0)\n",
    "    vecs2.append(mean_vec1)\n",
    "X_test['q1'] = list(vecs2)"
   ]
  },
  {
   "cell_type": "code",
   "execution_count": 209,
   "metadata": {},
   "outputs": [
    {
     "name": "stderr",
     "output_type": "stream",
     "text": [
      "100%|████████████████████████████████████████████████████████████████████████████| 70000/70000 [13:28<00:00, 86.58it/s]\n"
     ]
    }
   ],
   "source": [
    "nlp = spacy.load('en_core_web_sm')\n",
    "\n",
    "vecs1 = []\n",
    "\n",
    "for qu1 in tqdm(list(X_train['question2'])):\n",
    "    doc1 = nlp(qu1) \n",
    "    mean_vec1 = np.zeros([len(doc1), len(doc1[0].vector)])\n",
    "    for word1 in doc1:\n",
    "        # word2vec\n",
    "        vec1 = word1.vector\n",
    "        # fetch df score\n",
    "        try:\n",
    "            idf = word2tfidf[str(word1)]\n",
    "        except:\n",
    "            idf = 0\n",
    "        # compute final vec\n",
    "        mean_vec1 += vec1 * idf\n",
    "    mean_vec1 = mean_vec1.mean(axis=0)\n",
    "    vecs1.append(mean_vec1)\n",
    "X_train['q2'] = list(vecs1)"
   ]
  },
  {
   "cell_type": "code",
   "execution_count": 210,
   "metadata": {},
   "outputs": [
    {
     "name": "stderr",
     "output_type": "stream",
     "text": [
      "100%|████████████████████████████████████████████████████████████████████████████| 30000/30000 [06:29<00:00, 74.43it/s]\n"
     ]
    }
   ],
   "source": [
    "vecs2 = []\n",
    "\n",
    "for qu1 in tqdm(list(X_test['question2'])):\n",
    "    doc1 = nlp(qu1) \n",
    "    mean_vec1 = np.zeros([len(doc1), len(doc1[0].vector)])\n",
    "    for word1 in doc1:\n",
    "        # word2vec\n",
    "        vec1 = word1.vector\n",
    "        # fetch df score\n",
    "        try:\n",
    "            idf = word2tfidf[str(word1)]\n",
    "        except:\n",
    "            idf = 0\n",
    "        # compute final vec\n",
    "        mean_vec1 += vec1 * idf\n",
    "    mean_vec1 = mean_vec1.mean(axis=0)\n",
    "    vecs2.append(mean_vec1)\n",
    "X_test['q2'] = list(vecs2)"
   ]
  },
  {
   "cell_type": "code",
   "execution_count": 211,
   "metadata": {},
   "outputs": [],
   "source": [
    "x_train_q1 = pd.DataFrame(X_train.q1.values.tolist(), index= X_train.index)\n",
    "x_train_q2 = pd.DataFrame(X_train.q2.values.tolist(), index= X_train.index)"
   ]
  },
  {
   "cell_type": "code",
   "execution_count": 212,
   "metadata": {},
   "outputs": [],
   "source": [
    "x_test_q1 = pd.DataFrame(X_test.q1.values.tolist(), index= X_test.index)\n",
    "x_test_q2 = pd.DataFrame(X_test.q1.values.tolist(), index= X_test.index)"
   ]
  },
  {
   "cell_type": "code",
   "execution_count": 213,
   "metadata": {},
   "outputs": [],
   "source": [
    "i=[v for v in range(0,97)]\n",
    "j=[v for v in range(96,193)]\n",
    "d={}\n",
    "for a,b in zip(i,j):\n",
    "    d[a]=b"
   ]
  },
  {
   "cell_type": "code",
   "execution_count": 214,
   "metadata": {},
   "outputs": [],
   "source": [
    "# renaming the train set features\n",
    "x_train_q2.rename(columns=d, inplace=True)"
   ]
  },
  {
   "cell_type": "code",
   "execution_count": 215,
   "metadata": {},
   "outputs": [],
   "source": [
    "# renaming the test set features\n",
    "x_test_q2.rename(columns=d, inplace=True)"
   ]
  },
  {
   "cell_type": "code",
   "execution_count": 217,
   "metadata": {},
   "outputs": [],
   "source": [
    "# concatenating all the features into a single train dataset\n",
    "x_train_ques = pd.concat([x_train_q1, x_train_q2], axis=1)\n",
    "X_train_final = pd.concat([X_train, x_train_ques], axis=1)"
   ]
  },
  {
   "cell_type": "code",
   "execution_count": 218,
   "metadata": {},
   "outputs": [
    {
     "data": {
      "text/plain": [
       "(70000, 223)"
      ]
     },
     "execution_count": 218,
     "metadata": {},
     "output_type": "execute_result"
    }
   ],
   "source": [
    "X_train_final.shape"
   ]
  },
  {
   "cell_type": "code",
   "execution_count": 221,
   "metadata": {},
   "outputs": [],
   "source": [
    "# concatenating all the features into a single train dataset\n",
    "x_test_ques = pd.concat([x_test_q1, x_test_q2], axis=1)\n",
    "X_test_final = pd.concat([X_test, x_test_ques], axis=1)"
   ]
  },
  {
   "cell_type": "code",
   "execution_count": 222,
   "metadata": {},
   "outputs": [
    {
     "data": {
      "text/plain": [
       "(30000, 223)"
      ]
     },
     "execution_count": 222,
     "metadata": {},
     "output_type": "execute_result"
    }
   ],
   "source": [
    "X_test_final.shape"
   ]
  },
  {
   "cell_type": "code",
   "execution_count": 225,
   "metadata": {},
   "outputs": [],
   "source": [
    "# dropping the unwanted features \n",
    "X_train_final = X_train_final.drop(['id', 'question1', 'question2', 'q1', 'q2'], axis=1)\n",
    "X_test_final = X_test_final.drop(['id', 'question1', 'question2', 'q1', 'q2'], axis=1)"
   ]
  },
  {
   "cell_type": "markdown",
   "metadata": {},
   "source": [
    "<h3> XGBoost Hyperparam tuning </h3>"
   ]
  },
  {
   "cell_type": "code",
   "execution_count": 228,
   "metadata": {},
   "outputs": [
    {
     "name": "stdout",
     "output_type": "stream",
     "text": [
      "[0]\ttrain-logloss:0.685002\tvalid-logloss:0.685013\n",
      "Multiple eval metrics have been passed: 'valid-logloss' will be used for early stopping.\n",
      "\n",
      "Will train until valid-logloss hasn't improved in 20 rounds.\n",
      "[10]\ttrain-logloss:0.615713\tvalid-logloss:0.616283\n",
      "[20]\ttrain-logloss:0.565029\tvalid-logloss:0.566007\n",
      "[30]\ttrain-logloss:0.526577\tvalid-logloss:0.528056\n",
      "[40]\ttrain-logloss:0.49723\tvalid-logloss:0.499195\n",
      "[50]\ttrain-logloss:0.474398\tvalid-logloss:0.476765\n",
      "[60]\ttrain-logloss:0.455874\tvalid-logloss:0.458652\n",
      "[70]\ttrain-logloss:0.441343\tvalid-logloss:0.444464\n",
      "[80]\ttrain-logloss:0.429243\tvalid-logloss:0.432704\n",
      "[90]\ttrain-logloss:0.419475\tvalid-logloss:0.423196\n",
      "[100]\ttrain-logloss:0.411477\tvalid-logloss:0.415476\n",
      "[110]\ttrain-logloss:0.404547\tvalid-logloss:0.408772\n",
      "[120]\ttrain-logloss:0.398806\tvalid-logloss:0.403299\n",
      "[130]\ttrain-logloss:0.393856\tvalid-logloss:0.398555\n",
      "[140]\ttrain-logloss:0.389744\tvalid-logloss:0.394724\n",
      "[150]\ttrain-logloss:0.386054\tvalid-logloss:0.391272\n",
      "[160]\ttrain-logloss:0.382797\tvalid-logloss:0.388331\n",
      "[170]\ttrain-logloss:0.380056\tvalid-logloss:0.385905\n",
      "[180]\ttrain-logloss:0.377482\tvalid-logloss:0.383615\n",
      "[190]\ttrain-logloss:0.375288\tvalid-logloss:0.381778\n",
      "[200]\ttrain-logloss:0.373209\tvalid-logloss:0.379941\n",
      "[210]\ttrain-logloss:0.371424\tvalid-logloss:0.378388\n",
      "[220]\ttrain-logloss:0.369739\tvalid-logloss:0.376932\n",
      "[230]\ttrain-logloss:0.368066\tvalid-logloss:0.375557\n",
      "[240]\ttrain-logloss:0.366601\tvalid-logloss:0.374378\n",
      "[250]\ttrain-logloss:0.365216\tvalid-logloss:0.373303\n",
      "[260]\ttrain-logloss:0.363842\tvalid-logloss:0.37219\n",
      "[270]\ttrain-logloss:0.362589\tvalid-logloss:0.371216\n",
      "[280]\ttrain-logloss:0.361284\tvalid-logloss:0.370225\n",
      "[290]\ttrain-logloss:0.359896\tvalid-logloss:0.369072\n",
      "[300]\ttrain-logloss:0.358612\tvalid-logloss:0.3681\n",
      "[310]\ttrain-logloss:0.357406\tvalid-logloss:0.367223\n",
      "[320]\ttrain-logloss:0.356198\tvalid-logloss:0.366361\n",
      "[330]\ttrain-logloss:0.355055\tvalid-logloss:0.365594\n",
      "[340]\ttrain-logloss:0.353969\tvalid-logloss:0.364814\n",
      "[350]\ttrain-logloss:0.352892\tvalid-logloss:0.364045\n",
      "[360]\ttrain-logloss:0.351769\tvalid-logloss:0.36329\n",
      "[370]\ttrain-logloss:0.350547\tvalid-logloss:0.362423\n",
      "[380]\ttrain-logloss:0.349471\tvalid-logloss:0.361711\n",
      "[390]\ttrain-logloss:0.348446\tvalid-logloss:0.361086\n",
      "[399]\ttrain-logloss:0.347576\tvalid-logloss:0.360567\n",
      "The test log loss is: 0.360566441135677\n"
     ]
    }
   ],
   "source": [
    "from scipy.stats import randint as sp_randint\n",
    "from scipy.stats import uniform as sp_uniform\n",
    "from sklearn.model_selection import RandomizedSearchCV\n",
    "\n",
    "\n",
    "import xgboost as xgb\n",
    "params= {}\n",
    "\n",
    "params['objective'] = 'binary:logistic'\n",
    "params['eval_metric'] = 'logloss'\n",
    "params['eta'] = 0.02\n",
    "params['max_depth'] = 4\n",
    "\n",
    "d_train = xgb.DMatrix(X_train_final, label=y_train)\n",
    "d_test = xgb.DMatrix(X_test_final, label=y_test)\n",
    "\n",
    "watchlist = [(d_train, 'train'), (d_test, 'valid')]\n",
    "\n",
    "bst = xgb.train(params, d_train, 400, watchlist, early_stopping_rounds=20, verbose_eval=10)\n",
    "\n",
    "xgdmat = xgb.DMatrix(X_train_final,y_train)\n",
    "predict_y = bst.predict(d_test)\n",
    "print(\"The test log loss is:\",log_loss(y_test, predict_y, labels=clf.classes_, eps=1e-15))"
   ]
  },
  {
   "cell_type": "code",
   "execution_count": 229,
   "metadata": {},
   "outputs": [
    {
     "name": "stdout",
     "output_type": "stream",
     "text": [
      "Total number of data points : 30000\n"
     ]
    },
    {
     "data": {
      "image/png": "[encoded data removed]",
      "text/plain": [
       "<Figure size 1440x288 with 6 Axes>"
      ]
     },
     "metadata": {
      "needs_background": "light"
     },
     "output_type": "display_data"
    }
   ],
   "source": [
    "predicted_y =np.array(predict_y>0.5,dtype=int)\n",
    "print(\"Total number of data points :\", len(predicted_y))\n",
    "plot_confusion_matrix(y_test, predicted_y)"
   ]
  },
  {
   "cell_type": "markdown",
   "metadata": {},
   "source": [
    "**Max_depth & Min_child_weight**"
   ]
  },
  {
   "cell_type": "code",
   "execution_count": 230,
   "metadata": {},
   "outputs": [
    {
     "name": "stdout",
     "output_type": "stream",
     "text": [
      "CV with max_depth=3, min_child_weight=1\n",
      "\tLogLoss 0.627745 for 9 rounds\n",
      "CV with max_depth=3, min_child_weight=2\n",
      "\tLogLoss 0.627745 for 9 rounds\n",
      "CV with max_depth=3, min_child_weight=3\n",
      "\tLogLoss 0.627745 for 9 rounds\n",
      "CV with max_depth=3, min_child_weight=4\n",
      "\tLogLoss 0.627745 for 9 rounds\n",
      "CV with max_depth=4, min_child_weight=1\n",
      "\tLogLoss 0.6220016 for 9 rounds\n",
      "CV with max_depth=4, min_child_weight=2\n",
      "\tLogLoss 0.6220016 for 9 rounds\n",
      "CV with max_depth=4, min_child_weight=3\n",
      "\tLogLoss 0.6220016 for 9 rounds\n",
      "CV with max_depth=4, min_child_weight=4\n",
      "\tLogLoss 0.6220016 for 9 rounds\n",
      "CV with max_depth=5, min_child_weight=1\n",
      "\tLogLoss 0.6175955 for 9 rounds\n",
      "CV with max_depth=5, min_child_weight=2\n",
      "\tLogLoss 0.6175903999999999 for 9 rounds\n",
      "CV with max_depth=5, min_child_weight=3\n",
      "\tLogLoss 0.6175935000000001 for 9 rounds\n",
      "CV with max_depth=5, min_child_weight=4\n",
      "\tLogLoss 0.6175949999999999 for 9 rounds\n",
      "CV with max_depth=6, min_child_weight=1\n",
      "\tLogLoss 0.6139163 for 9 rounds\n",
      "CV with max_depth=6, min_child_weight=2\n",
      "\tLogLoss 0.6139102999999999 for 9 rounds\n",
      "CV with max_depth=6, min_child_weight=3\n",
      "\tLogLoss 0.6139371 for 9 rounds\n",
      "CV with max_depth=6, min_child_weight=4\n",
      "\tLogLoss 0.6139460000000001 for 9 rounds\n",
      "CV with max_depth=7, min_child_weight=1\n",
      "\tLogLoss 0.6112605 for 9 rounds\n",
      "CV with max_depth=7, min_child_weight=2\n",
      "\tLogLoss 0.6112563000000001 for 9 rounds\n",
      "CV with max_depth=7, min_child_weight=3\n",
      "\tLogLoss 0.6113257999999999 for 9 rounds\n",
      "CV with max_depth=7, min_child_weight=4\n",
      "\tLogLoss 0.6113642 for 9 rounds\n",
      "CV with max_depth=8, min_child_weight=1\n",
      "\tLogLoss 0.609414 for 9 rounds\n",
      "CV with max_depth=8, min_child_weight=2\n",
      "\tLogLoss 0.6094374 for 9 rounds\n",
      "CV with max_depth=8, min_child_weight=3\n",
      "\tLogLoss 0.6095404999999999 for 9 rounds\n",
      "CV with max_depth=8, min_child_weight=4\n",
      "\tLogLoss 0.6096183 for 9 rounds\n",
      "CV with max_depth=9, min_child_weight=1\n",
      "\tLogLoss 0.6083559999999999 for 9 rounds\n",
      "CV with max_depth=9, min_child_weight=2\n",
      "\tLogLoss 0.6083874 for 9 rounds\n",
      "CV with max_depth=9, min_child_weight=3\n",
      "\tLogLoss 0.6084785 for 9 rounds\n",
      "CV with max_depth=9, min_child_weight=4\n",
      "\tLogLoss 0.6086149000000001 for 9 rounds\n"
     ]
    }
   ],
   "source": [
    "# hyperparameter tuning for max_depth and min_child_weight\n",
    "min_logloss = float(\"Inf\")\n",
    "best_params = None\n",
    "\n",
    "gridsearch_params = [\n",
    "    (max_depth, min_child_weight)\n",
    "    for max_depth in range(3, 10)\n",
    "    for min_child_weight in range(1, 5)\n",
    "]\n",
    "\n",
    "for max_depth, min_child_weight in gridsearch_params:\n",
    "    print(\"CV with max_depth={}, min_child_weight={}\".format(\n",
    "                             max_depth,\n",
    "                             min_child_weight))\n",
    "\n",
    "    # Update our parameters\n",
    "    params['max_depth'] = max_depth\n",
    "    params['min_child_weight'] = min_child_weight\n",
    "\n",
    "    # Run CV\n",
    "    cv_results = xgb.cv(\n",
    "        params,\n",
    "        d_train,\n",
    "        seed=42,\n",
    "        nfold=10,\n",
    "        metrics={'logloss'},\n",
    "        early_stopping_rounds=10\n",
    "    )\n",
    "    \n",
    "    mean_logloss = cv_results['test-logloss-mean'].min()\n",
    "    boost_rounds = cv_results['test-logloss-mean'].argmin()\n",
    "    print(\"\\tLogLoss {} for {} rounds\".format(mean_logloss, boost_rounds))\n",
    "    if mean_logloss < min_logloss:\n",
    "        min_logloss = mean_logloss\n",
    "        best_params = (max_depth,min_child_weight)   "
   ]
  },
  {
   "cell_type": "code",
   "execution_count": 231,
   "metadata": {},
   "outputs": [
    {
     "name": "stdout",
     "output_type": "stream",
     "text": [
      "Best params: 9, 1\n"
     ]
    }
   ],
   "source": [
    "# best max_depth and min_child_weight\n",
    "print(\"Best params: {}, {}\".format(best_params[0], best_params[1]))"
   ]
  },
  {
   "cell_type": "markdown",
   "metadata": {},
   "source": [
    "**Subsample & Colsample**"
   ]
  },
  {
   "cell_type": "code",
   "execution_count": 233,
   "metadata": {},
   "outputs": [
    {
     "name": "stdout",
     "output_type": "stream",
     "text": [
      "CV with subsample=0.9, colsample=0.9\n",
      "\tLogLoss 0.6088534999999999 for 9 rounds\n",
      "CV with subsample=0.9, colsample=0.8\n",
      "\tLogLoss 0.6095845999999999 for 9 rounds\n",
      "CV with subsample=0.9, colsample=0.7\n",
      "\tLogLoss 0.6108140999999999 for 9 rounds\n",
      "CV with subsample=0.9, colsample=0.6\n",
      "\tLogLoss 0.6121133000000001 for 9 rounds\n",
      "CV with subsample=0.8, colsample=0.9\n",
      "\tLogLoss 0.6091206 for 9 rounds\n",
      "CV with subsample=0.8, colsample=0.8\n",
      "\tLogLoss 0.6097758000000001 for 9 rounds\n",
      "CV with subsample=0.8, colsample=0.7\n",
      "\tLogLoss 0.6110788 for 9 rounds\n",
      "CV with subsample=0.8, colsample=0.6\n",
      "\tLogLoss 0.612242 for 9 rounds\n",
      "CV with subsample=0.7, colsample=0.9\n",
      "\tLogLoss 0.6092816999999999 for 9 rounds\n",
      "CV with subsample=0.7, colsample=0.8\n",
      "\tLogLoss 0.6099989000000001 for 9 rounds\n",
      "CV with subsample=0.7, colsample=0.7\n",
      "\tLogLoss 0.611212 for 9 rounds\n",
      "CV with subsample=0.7, colsample=0.6\n",
      "\tLogLoss 0.6124498 for 9 rounds\n",
      "CV with subsample=0.6, colsample=0.9\n",
      "\tLogLoss 0.6094925000000001 for 9 rounds\n",
      "CV with subsample=0.6, colsample=0.8\n",
      "\tLogLoss 0.6102202999999999 for 9 rounds\n",
      "CV with subsample=0.6, colsample=0.7\n",
      "\tLogLoss 0.6115305000000001 for 9 rounds\n",
      "CV with subsample=0.6, colsample=0.6\n",
      "\tLogLoss 0.6127324 for 9 rounds\n",
      "Best params: 0.9, 0.9\n"
     ]
    }
   ],
   "source": [
    "# hyperparameter tuning for subsample and colsample\n",
    "gridsearch_params = [\n",
    "    (subsample, colsample)\n",
    "    for subsample in [i/10 for i in range(6,10)]\n",
    "    for colsample in [i/10 for i in range(6,10)]\n",
    "]\n",
    "\n",
    "min_logloss = float(\"Inf\")\n",
    "best_params = None\n",
    "\n",
    "for subsample, colsample in reversed(gridsearch_params):\n",
    "    print(\"CV with subsample={}, colsample={}\".format(\n",
    "                             subsample,\n",
    "                             colsample))\n",
    "\n",
    "    # We update our parameters\n",
    "    params['subsample'] = subsample\n",
    "    params['colsample_bytree'] = colsample\n",
    "\n",
    "    # Run CV\n",
    "    cv_results = xgb.cv(\n",
    "        params,\n",
    "        d_train,\n",
    "        seed=42,\n",
    "        nfold=10,\n",
    "        metrics={'logloss'},\n",
    "        early_stopping_rounds=10\n",
    "    )\n",
    "\n",
    "    # Update best score\n",
    "    mean_logloss = cv_results['test-logloss-mean'].min()\n",
    "    boost_rounds = cv_results['test-logloss-mean'].argmin()\n",
    "    print(\"\\tLogLoss {} for {} rounds\".format(mean_logloss, boost_rounds))\n",
    "    if mean_logloss < min_logloss:\n",
    "        min_logloss = mean_logloss\n",
    "        best_params = (subsample,colsample)\n",
    "\n",
    "# Best subsample and colsample \n",
    "print(\"Best params: {}, {}\".format(best_params[0], best_params[1]))"
   ]
  },
  {
   "cell_type": "markdown",
   "metadata": {},
   "source": [
    "**Gamma**"
   ]
  },
  {
   "cell_type": "code",
   "execution_count": 234,
   "metadata": {},
   "outputs": [
    {
     "name": "stdout",
     "output_type": "stream",
     "text": [
      "CV with gamma=0.0\n",
      "\tLogLoss 0.6127324 for 9 rounds\n",
      "CV with gamma=0.1\n",
      "\tLogLoss 0.612734 for 9 rounds\n",
      "CV with gamma=0.2\n",
      "\tLogLoss 0.6127282999999999 for 9 rounds\n",
      "CV with gamma=0.3\n",
      "\tLogLoss 0.6127275000000001 for 9 rounds\n",
      "CV with gamma=0.4\n",
      "\tLogLoss 0.6127199000000001 for 9 rounds\n",
      "Best params: 0.4\n"
     ]
    }
   ],
   "source": [
    "# hyperparameter tuning for gamma\n",
    "min_logloss = float(\"Inf\")\n",
    "best_params = None\n",
    "\n",
    "gridsearch_params=[gamma\n",
    "    for gamma in [i/10.0 for i in range(0,5)]]\n",
    "\n",
    "for gamma in gridsearch_params:\n",
    "    print(\"CV with gamma={}\".format(gamma))\n",
    "\n",
    "    # We update our parameters\n",
    "    params['gamma'] = gamma\n",
    "\n",
    "    # Run and time CV\n",
    "    cv_results = xgb.cv(\n",
    "            params,\n",
    "            d_train,\n",
    "            seed=42,\n",
    "            nfold=10,\n",
    "            metrics=['logloss'],\n",
    "            early_stopping_rounds=10\n",
    "          )\n",
    "\n",
    "    # Update best score\n",
    "    mean_logloss = cv_results['test-logloss-mean'].min()\n",
    "    boost_rounds = cv_results['test-logloss-mean'].argmin()\n",
    "    print(\"\\tLogLoss {} for {} rounds\".format(mean_logloss, boost_rounds))\n",
    "    if mean_logloss < min_logloss:\n",
    "        min_logloss = mean_logloss\n",
    "        best_params = gamma\n",
    "\n",
    "# Best hyperparameter gamma \n",
    "print(\"Best params: {}\".format(best_params))"
   ]
  },
  {
   "cell_type": "markdown",
   "metadata": {},
   "source": [
    "**Alpha**"
   ]
  },
  {
   "cell_type": "code",
   "execution_count": 235,
   "metadata": {},
   "outputs": [
    {
     "name": "stdout",
     "output_type": "stream",
     "text": [
      "CV with reg_alpha=1e-05\n",
      "\tLogLoss 0.6127199000000001 for 9 rounds\n",
      "CV with reg_alpha=0.01\n",
      "\tLogLoss 0.6127222999999999 for 9 rounds\n",
      "CV with reg_alpha=0.1\n",
      "\tLogLoss 0.6127773000000001 for 9 rounds\n",
      "CV with reg_alpha=1\n",
      "\tLogLoss 0.6131814999999999 for 9 rounds\n",
      "CV with reg_alpha=100\n",
      "\tLogLoss 0.6264904 for 9 rounds\n",
      "Best params: 1e-05\n"
     ]
    }
   ],
   "source": [
    "# hyperparameter tuning for reg_alpha\n",
    "min_logloss = float(\"Inf\")\n",
    "best_params = None\n",
    "\n",
    "\n",
    "for reg_alpha in [1e-5, 1e-2, 0.1, 1, 100]:\n",
    "    print(\"CV with reg_alpha={}\".format(reg_alpha))\n",
    "\n",
    "    # We update our parameters\n",
    "    params['reg_alpha'] = reg_alpha\n",
    "\n",
    "    # Run and time CV\n",
    "    cv_results = xgb.cv(\n",
    "            params,\n",
    "            d_train,\n",
    "            seed=42,\n",
    "            nfold=10,\n",
    "            metrics=['logloss'],\n",
    "            early_stopping_rounds=10\n",
    "          )\n",
    "\n",
    "    # Update best score\n",
    "    mean_logloss = cv_results['test-logloss-mean'].min()\n",
    "    boost_rounds = cv_results['test-logloss-mean'].argmin()\n",
    "    print(\"\\tLogLoss {} for {} rounds\".format(mean_logloss, boost_rounds))\n",
    "    if mean_logloss < min_logloss:\n",
    "        min_logloss = mean_logloss\n",
    "        best_params = reg_alpha\n",
    "\n",
    "# best reg_alpha        \n",
    "print(\"Best params: {}\".format(best_params))"
   ]
  },
  {
   "cell_type": "markdown",
   "metadata": {},
   "source": [
    "**N_estimators**"
   ]
  },
  {
   "cell_type": "code",
   "execution_count": 236,
   "metadata": {},
   "outputs": [
    {
     "name": "stdout",
     "output_type": "stream",
     "text": [
      "CV with n_estimators=80\n",
      "\tLogLoss 0.6264904 for 9 rounds\n",
      "CV with n_estimators=95\n",
      "\tLogLoss 0.6264904 for 9 rounds\n",
      "CV with n_estimators=100\n",
      "\tLogLoss 0.6264904 for 9 rounds\n",
      "CV with n_estimators=140\n",
      "\tLogLoss 0.6264904 for 9 rounds\n",
      "CV with n_estimators=175\n",
      "\tLogLoss 0.6264904 for 9 rounds\n",
      "CV with n_estimators=250\n",
      "\tLogLoss 0.6264904 for 9 rounds\n",
      "CV with n_estimators=400\n",
      "\tLogLoss 0.6264904 for 9 rounds\n",
      "CV with n_estimators=600\n",
      "\tLogLoss 0.6264904 for 9 rounds\n",
      "CV with n_estimators=700\n",
      "\tLogLoss 0.6264904 for 9 rounds\n",
      "CV with n_estimators=900\n",
      "\tLogLoss 0.6264904 for 9 rounds\n",
      "Best params: 80\n"
     ]
    }
   ],
   "source": [
    "# hyperparameter tuning for number of estimators\n",
    "min_logloss = float(\"Inf\")\n",
    "best_params = None\n",
    "\n",
    "for n_estimators in [80, 95, 100, 140, 175, 250, 400, 600, 700, 900]:\n",
    "    print(\"CV with n_estimators={}\".format(n_estimators))\n",
    "\n",
    "    # We update our parameters\n",
    "    params['n_estimators'] = n_estimators\n",
    "\n",
    "    # Run and time CV\n",
    "    cv_results = xgb.cv(\n",
    "            params,\n",
    "            d_train,\n",
    "            seed=42,\n",
    "            nfold=10,\n",
    "            metrics=['logloss'],\n",
    "            early_stopping_rounds=10\n",
    "          )\n",
    "\n",
    "    # Update best score\n",
    "    mean_logloss = cv_results['test-logloss-mean'].min()\n",
    "    boost_rounds = cv_results['test-logloss-mean'].argmin()\n",
    "    print(\"\\tLogLoss {} for {} rounds\".format(mean_logloss, boost_rounds))\n",
    "    if mean_logloss < min_logloss:\n",
    "        min_logloss = mean_logloss\n",
    "        best_params = n_estimators\n",
    "# Best n_estimators\n",
    "print(\"Best params: {}\".format(best_params))"
   ]
  },
  {
   "cell_type": "markdown",
   "metadata": {},
   "source": [
    "**Final model with all the tuned hyperparamters**"
   ]
  },
  {
   "cell_type": "code",
   "execution_count": 241,
   "metadata": {},
   "outputs": [
    {
     "name": "stdout",
     "output_type": "stream",
     "text": [
      "[0]\ttrain-logloss:0.68839\tvalid-logloss:0.688465\n",
      "Multiple eval metrics have been passed: 'valid-logloss' will be used for early stopping.\n",
      "\n",
      "Will train until valid-logloss hasn't improved in 20 rounds.\n",
      "[10]\ttrain-logloss:0.64627\tvalid-logloss:0.646884\n",
      "[20]\ttrain-logloss:0.61078\tvalid-logloss:0.611982\n",
      "[30]\ttrain-logloss:0.581092\tvalid-logloss:0.582811\n",
      "[40]\ttrain-logloss:0.555159\tvalid-logloss:0.557367\n",
      "[50]\ttrain-logloss:0.532614\tvalid-logloss:0.535271\n",
      "[60]\ttrain-logloss:0.513063\tvalid-logloss:0.516129\n",
      "[70]\ttrain-logloss:0.496036\tvalid-logloss:0.499474\n",
      "[80]\ttrain-logloss:0.48108\tvalid-logloss:0.484926\n",
      "[90]\ttrain-logloss:0.467687\tvalid-logloss:0.471944\n",
      "[100]\ttrain-logloss:0.455906\tvalid-logloss:0.460505\n",
      "[110]\ttrain-logloss:0.445196\tvalid-logloss:0.450192\n",
      "[120]\ttrain-logloss:0.435902\tvalid-logloss:0.441312\n",
      "[130]\ttrain-logloss:0.427498\tvalid-logloss:0.433261\n",
      "[140]\ttrain-logloss:0.420062\tvalid-logloss:0.42618\n",
      "[150]\ttrain-logloss:0.41352\tvalid-logloss:0.419975\n",
      "[160]\ttrain-logloss:0.407488\tvalid-logloss:0.414297\n",
      "[170]\ttrain-logloss:0.402033\tvalid-logloss:0.409139\n",
      "[180]\ttrain-logloss:0.397107\tvalid-logloss:0.404534\n",
      "[190]\ttrain-logloss:0.392737\tvalid-logloss:0.40041\n",
      "[200]\ttrain-logloss:0.388688\tvalid-logloss:0.396593\n",
      "[210]\ttrain-logloss:0.384986\tvalid-logloss:0.393174\n",
      "[220]\ttrain-logloss:0.381564\tvalid-logloss:0.390033\n",
      "[230]\ttrain-logloss:0.378516\tvalid-logloss:0.387251\n",
      "[240]\ttrain-logloss:0.375559\tvalid-logloss:0.38453\n",
      "[250]\ttrain-logloss:0.372885\tvalid-logloss:0.382111\n",
      "[260]\ttrain-logloss:0.370442\tvalid-logloss:0.379897\n",
      "[270]\ttrain-logloss:0.368317\tvalid-logloss:0.377963\n",
      "[280]\ttrain-logloss:0.366272\tvalid-logloss:0.376157\n",
      "[290]\ttrain-logloss:0.364383\tvalid-logloss:0.374506\n",
      "[300]\ttrain-logloss:0.362556\tvalid-logloss:0.372916\n",
      "[310]\ttrain-logloss:0.36097\tvalid-logloss:0.371534\n",
      "[320]\ttrain-logloss:0.35947\tvalid-logloss:0.370212\n",
      "[330]\ttrain-logloss:0.35797\tvalid-logloss:0.368926\n",
      "[340]\ttrain-logloss:0.356584\tvalid-logloss:0.367719\n",
      "[350]\ttrain-logloss:0.355412\tvalid-logloss:0.366705\n",
      "[360]\ttrain-logloss:0.354337\tvalid-logloss:0.365772\n",
      "[370]\ttrain-logloss:0.353254\tvalid-logloss:0.36486\n",
      "[380]\ttrain-logloss:0.352285\tvalid-logloss:0.364055\n",
      "[390]\ttrain-logloss:0.351218\tvalid-logloss:0.363189\n",
      "[400]\ttrain-logloss:0.35034\tvalid-logloss:0.362463\n",
      "[410]\ttrain-logloss:0.349368\tvalid-logloss:0.361664\n",
      "[420]\ttrain-logloss:0.348489\tvalid-logloss:0.360962\n",
      "[430]\ttrain-logloss:0.347665\tvalid-logloss:0.360323\n",
      "[440]\ttrain-logloss:0.346884\tvalid-logloss:0.359716\n",
      "[450]\ttrain-logloss:0.346147\tvalid-logloss:0.359147\n",
      "[460]\ttrain-logloss:0.345422\tvalid-logloss:0.358594\n",
      "[470]\ttrain-logloss:0.34479\tvalid-logloss:0.358145\n",
      "[480]\ttrain-logloss:0.344061\tvalid-logloss:0.357586\n",
      "[490]\ttrain-logloss:0.343323\tvalid-logloss:0.357062\n",
      "[499]\ttrain-logloss:0.342764\tvalid-logloss:0.356621\n",
      "The test log loss is: 0.3566216278176755\n"
     ]
    }
   ],
   "source": [
    "# Hyperparameter tuned model with best hyperparameters found using CV and reduced test log-loss.\n",
    "\n",
    "import xgboost as xgb\n",
    "params= {}\n",
    "\n",
    "params['n_estimators'] = 80\n",
    "params['min_child_weight'] = 3\n",
    "params['subsample'] = 0.9\n",
    "params['colsample_bytree'] = 0.8\n",
    "params['gamma'] = 0.4\n",
    "params['reg_alpha'] = 1e-05\n",
    "params['objective'] = 'binary:logistic'\n",
    "params['eval_metric'] = 'logloss'\n",
    "params['eta'] = 0.01\n",
    "params['max_depth'] = 6\n",
    "\n",
    "d_train = xgb.DMatrix(X_train, label=y_train)\n",
    "d_test = xgb.DMatrix(X_test, label=y_test)\n",
    "\n",
    "watchlist = [(d_train, 'train'), (d_test, 'valid')]\n",
    "\n",
    "bst = xgb.train(params, d_train, 500, watchlist, early_stopping_rounds=20, verbose_eval=10)\n",
    "\n",
    "\n",
    "xgdmat = xgb.DMatrix(X_train,y_train)\n",
    "predict_y = bst.predict(d_test)\n",
    "print(\"The test log loss is:\",log_loss(y_test, predict_y, labels=clf.classes_, eps=1e-15))"
   ]
  },
  {
   "cell_type": "code",
   "execution_count": 242,
   "metadata": {},
   "outputs": [
    {
     "name": "stdout",
     "output_type": "stream",
     "text": [
      "Total number of data points : 30000\n"
     ]
    },
    {
     "data": {
      "image/png": "[encoded data removed]",
      "text/plain": [
       "<Figure size 1440x288 with 6 Axes>"
      ]
     },
     "metadata": {
      "needs_background": "light"
     },
     "output_type": "display_data"
    }
   ],
   "source": [
    "predicted_y =np.array(predict_y>0.5,dtype=int)\n",
    "print(\"Total number of data points :\", len(predicted_y))\n",
    "plot_confusion_matrix(y_test, predicted_y)"
   ]
  },
  {
   "cell_type": "markdown",
   "metadata": {},
   "source": [
    "### Conclusion"
   ]
  },
  {
   "cell_type": "markdown",
   "metadata": {},
   "source": [
    "After hyperparameter tuning of Xgboost we reduced the log-loss. The hyperparameter is being optimized by observing the \n",
    "test logloss and picking the best hyperparamter for our xgboost model."
   ]
  }
 ],
 "metadata": {
  "kernelspec": {
   "display_name": "Python 3",
   "language": "python",
   "name": "python3"
  },
  "language_info": {
   "codemirror_mode": {
    "name": "ipython",
    "version": 3
   },
   "file_extension": ".py",
   "mimetype": "text/x-python",
   "name": "python",
   "nbconvert_exporter": "python",
   "pygments_lexer": "ipython3",
   "version": "3.7.1"
  }
 },
 "nbformat": 4,
 "nbformat_minor": 2
}
